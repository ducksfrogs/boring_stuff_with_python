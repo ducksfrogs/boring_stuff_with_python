{
 "cells": [
  {
   "cell_type": "code",
   "execution_count": 1,
   "id": "54039929-06ce-4317-a471-e2fc787f77da",
   "metadata": {},
   "outputs": [
    {
     "name": "stdout",
     "output_type": "stream",
     "text": [
      "21.0\n"
     ]
    }
   ],
   "source": [
    "def spam(divide_by):\n",
    "    return 42 / divide_by\n",
    "\n",
    "\n",
    "print(spam(2))\n",
    "\n"
   ]
  },
  {
   "cell_type": "code",
   "execution_count": 2,
   "id": "71f1b5b4-e0be-4658-bd62-3323a8e41166",
   "metadata": {},
   "outputs": [
    {
     "name": "stdout",
     "output_type": "stream",
     "text": [
      "8.4\n"
     ]
    }
   ],
   "source": [
    "print(spam(5))\n"
   ]
  },
  {
   "cell_type": "code",
   "execution_count": 3,
   "id": "3e90d644-5c92-41d5-bc5d-00b5ce2baafd",
   "metadata": {},
   "outputs": [
    {
     "ename": "ZeroDivisionError",
     "evalue": "division by zero",
     "output_type": "error",
     "traceback": [
      "\u001b[0;31m---------------------------------------------------------------------------\u001b[0m",
      "\u001b[0;31mZeroDivisionError\u001b[0m                         Traceback (most recent call last)",
      "\u001b[0;32m/tmp/ipykernel_14932/3554423919.py\u001b[0m in \u001b[0;36m<module>\u001b[0;34m\u001b[0m\n\u001b[0;32m----> 1\u001b[0;31m \u001b[0mprint\u001b[0m\u001b[0;34m(\u001b[0m\u001b[0mspam\u001b[0m\u001b[0;34m(\u001b[0m\u001b[0;36m0\u001b[0m\u001b[0;34m)\u001b[0m\u001b[0;34m)\u001b[0m\u001b[0;34m\u001b[0m\u001b[0;34m\u001b[0m\u001b[0m\n\u001b[0m",
      "\u001b[0;32m/tmp/ipykernel_14932/3357923337.py\u001b[0m in \u001b[0;36mspam\u001b[0;34m(divide_by)\u001b[0m\n\u001b[1;32m      1\u001b[0m \u001b[0;32mdef\u001b[0m \u001b[0mspam\u001b[0m\u001b[0;34m(\u001b[0m\u001b[0mdivide_by\u001b[0m\u001b[0;34m)\u001b[0m\u001b[0;34m:\u001b[0m\u001b[0;34m\u001b[0m\u001b[0;34m\u001b[0m\u001b[0m\n\u001b[0;32m----> 2\u001b[0;31m     \u001b[0;32mreturn\u001b[0m \u001b[0;36m42\u001b[0m \u001b[0;34m/\u001b[0m \u001b[0mdivide_by\u001b[0m\u001b[0;34m\u001b[0m\u001b[0;34m\u001b[0m\u001b[0m\n\u001b[0m\u001b[1;32m      3\u001b[0m \u001b[0;34m\u001b[0m\u001b[0m\n\u001b[1;32m      4\u001b[0m \u001b[0;34m\u001b[0m\u001b[0m\n\u001b[1;32m      5\u001b[0m \u001b[0mprint\u001b[0m\u001b[0;34m(\u001b[0m\u001b[0mspam\u001b[0m\u001b[0;34m(\u001b[0m\u001b[0;36m2\u001b[0m\u001b[0;34m)\u001b[0m\u001b[0;34m)\u001b[0m\u001b[0;34m\u001b[0m\u001b[0;34m\u001b[0m\u001b[0m\n",
      "\u001b[0;31mZeroDivisionError\u001b[0m: division by zero"
     ]
    }
   ],
   "source": [
    "print(spam(0))\n"
   ]
  },
  {
   "cell_type": "code",
   "execution_count": 4,
   "id": "eb0ac336-bc11-4e04-86de-c99f92575d2d",
   "metadata": {},
   "outputs": [],
   "source": [
    "def spam2(divide_by):\n",
    "    try:\n",
    "        return 42 / divide_by\n",
    "    except ZeroDivisionError:\n",
    "        print(\"Invalid number\")"
   ]
  },
  {
   "cell_type": "code",
   "execution_count": 5,
   "id": "8e0ca7e2-c882-4c33-affc-1b6afe19c9d4",
   "metadata": {},
   "outputs": [
    {
     "name": "stdout",
     "output_type": "stream",
     "text": [
      "14.0\n"
     ]
    }
   ],
   "source": [
    "print(spam2(3))\n"
   ]
  },
  {
   "cell_type": "code",
   "execution_count": 6,
   "id": "6adb44e9-a286-4cdf-87f6-c39aebfd96e2",
   "metadata": {},
   "outputs": [
    {
     "name": "stdout",
     "output_type": "stream",
     "text": [
      "Invalid number\n",
      "None\n"
     ]
    }
   ],
   "source": [
    "print(spam2(0))\n"
   ]
  },
  {
   "cell_type": "code",
   "execution_count": null,
   "id": "fb9729e5-123c-4d6b-b6cd-f5867af91b2a",
   "metadata": {},
   "outputs": [],
   "source": []
  }
 ],
 "metadata": {
  "kernelspec": {
   "display_name": "Python 3 (ipykernel)",
   "language": "python",
   "name": "python3"
  },
  "language_info": {
   "codemirror_mode": {
    "name": "ipython",
    "version": 3
   },
   "file_extension": ".py",
   "mimetype": "text/x-python",
   "name": "python",
   "nbconvert_exporter": "python",
   "pygments_lexer": "ipython3",
   "version": "3.9.7"
  }
 },
 "nbformat": 4,
 "nbformat_minor": 5
}
