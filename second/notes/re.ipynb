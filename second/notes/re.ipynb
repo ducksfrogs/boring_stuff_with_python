{
 "cells": [
  {
   "cell_type": "code",
   "execution_count": 4,
   "id": "0a0a8d55-0ca3-4ec2-8d8a-74266f911618",
   "metadata": {},
   "outputs": [],
   "source": [
    "import re"
   ]
  },
  {
   "cell_type": "code",
   "execution_count": 2,
   "id": "4ae134da-66a6-43aa-be01-8310503b76ab",
   "metadata": {},
   "outputs": [
    {
     "name": "stdout",
     "output_type": "stream",
     "text": [
      "Found phone_number: 000-111-2222\n",
      "Found phone_number: 222-222-3333\n",
      "Fin\n"
     ]
    }
   ],
   "source": [
    "def is_phone_number(text):\n",
    "    if len(text) != 12:\n",
    "        return False\n",
    "    for i in range(0, 3):\n",
    "        if not text[i].isdecimal():\n",
    "            return False\n",
    "    if text[3] != '-':\n",
    "        return False\n",
    "    for i in range(4, 7):\n",
    "        if not text[i].isdecimal():\n",
    "            return False\n",
    "    if text[7] != '-':\n",
    "        return False\n",
    "    for i in range(8, 12):\n",
    "        if not text[i].isdecimal():\n",
    "            return False\n",
    "    return True\n",
    "\n",
    "\n",
    "message = 'mmmm 000-111-2222 dddd 222-222-3333 dddd ddddd 000-2222-44444'\n",
    "\n",
    "for i in range(len(message)):\n",
    "    chunk = message[i:i+12]\n",
    "    if is_phone_number(chunk):\n",
    "        print(\"Found phone_number: \" + chunk)\n",
    "print(\"Fin\")\n"
   ]
  },
  {
   "cell_type": "code",
   "execution_count": 5,
   "id": "7835a737-a4fa-4d27-b79d-afcb2c796cfe",
   "metadata": {},
   "outputs": [],
   "source": [
    "phone_num_regex = re.compile(r'\\d\\d\\d-\\d\\d\\d-\\d\\d\\d\\d')\n",
    "mo = phone_num_regex.search(message)\n"
   ]
  },
  {
   "cell_type": "code",
   "execution_count": 6,
   "id": "42cd1225-ff92-4951-88c1-c6a9245c34c1",
   "metadata": {},
   "outputs": [
    {
     "data": {
      "text/plain": [
       "'000-111-2222'"
      ]
     },
     "execution_count": 6,
     "metadata": {},
     "output_type": "execute_result"
    }
   ],
   "source": [
    "mo.group()"
   ]
  },
  {
   "cell_type": "code",
   "execution_count": 7,
   "id": "f7c80082-128d-444c-9021-7526a688871a",
   "metadata": {},
   "outputs": [
    {
     "name": "stdout",
     "output_type": "stream",
     "text": [
      "0\n",
      "1\n"
     ]
    }
   ],
   "source": [
    "for i in range(2):\n",
    "    print(i)\n"
   ]
  },
  {
   "cell_type": "code",
   "execution_count": 9,
   "id": "5159e0a9-8c08-4f77-8af5-ada9fbc5f3f5",
   "metadata": {},
   "outputs": [
    {
     "name": "stdout",
     "output_type": "stream",
     "text": [
      "000-111-2222\n",
      "000-111-2222\n"
     ]
    }
   ],
   "source": [
    "for i in range(2):\n",
    "    ko = mo.group()\n",
    "    print(ko)\n",
    "    \n"
   ]
  },
  {
   "cell_type": "code",
   "execution_count": 10,
   "id": "ac7841f2-f2c2-4228-a47a-31960e62797e",
   "metadata": {},
   "outputs": [],
   "source": [
    "mo = phone_num_regex.findall(message)"
   ]
  },
  {
   "cell_type": "code",
   "execution_count": 12,
   "id": "9c9da9a2-4904-4f65-afb7-7d1d770092df",
   "metadata": {},
   "outputs": [
    {
     "data": {
      "text/plain": [
       "['000-111-2222', '222-222-3333']"
      ]
     },
     "execution_count": 12,
     "metadata": {},
     "output_type": "execute_result"
    }
   ],
   "source": [
    "mo"
   ]
  },
  {
   "cell_type": "code",
   "execution_count": 13,
   "id": "404b82dd-f4ab-4065-b421-a8f19f08dab3",
   "metadata": {},
   "outputs": [
    {
     "name": "stdout",
     "output_type": "stream",
     "text": [
      "000-111-2222\n",
      "222-222-3333\n"
     ]
    }
   ],
   "source": [
    "for i in range(len(mo)):\n",
    "    print(mo[i])"
   ]
  },
  {
   "cell_type": "code",
   "execution_count": null,
   "id": "af5a81c3-d89b-42d0-8867-0c6bc1b4e67d",
   "metadata": {},
   "outputs": [],
   "source": []
  }
 ],
 "metadata": {
  "kernelspec": {
   "display_name": "Python 3 (ipykernel)",
   "language": "python",
   "name": "python3"
  },
  "language_info": {
   "codemirror_mode": {
    "name": "ipython",
    "version": 3
   },
   "file_extension": ".py",
   "mimetype": "text/x-python",
   "name": "python",
   "nbconvert_exporter": "python",
   "pygments_lexer": "ipython3",
   "version": "3.9.7"
  }
 },
 "nbformat": 4,
 "nbformat_minor": 5
}
